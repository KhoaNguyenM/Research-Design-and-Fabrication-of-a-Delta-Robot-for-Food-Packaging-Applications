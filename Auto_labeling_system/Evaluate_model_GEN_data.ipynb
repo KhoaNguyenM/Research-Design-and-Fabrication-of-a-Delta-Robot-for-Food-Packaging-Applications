{
 "cells": [
  {
   "cell_type": "code",
   "execution_count": 1,
   "id": "91e4e24a",
   "metadata": {},
   "outputs": [
    {
     "name": "stdout",
     "output_type": "stream",
     "text": [
      "Tổng số tệp .txt: 900\n"
     ]
    }
   ],
   "source": [
    "import os\n",
    "\n",
    "folder_path = 'D:\\\\UTE\\\\UTE_Nam_4_ki_2_DATN\\\\Thu_Thap_Data\\\\Data_ver2_Banhpia\\\\Data_tho\\\\labels'  # thay bằng đường dẫn thật\n",
    "\n",
    "txt_files = [f for f in os.listdir(folder_path) if f.endswith('.txt')]\n",
    "print(f\"Tổng số tệp .txt: {len(txt_files)}\")\n"
   ]
  },
  {
   "cell_type": "code",
   "execution_count": 2,
   "id": "749197d0",
   "metadata": {},
   "outputs": [
    {
     "name": "stdout",
     "output_type": "stream",
     "text": [
      "Tổng số tệp .txt: 829\n"
     ]
    }
   ],
   "source": [
    "folder_path_1 = 'D:\\\\UTE\\\\UTE_Nam_4_ki_2_DATN\\\\Thu_Thap_Data\\\\Data_ver2_Banhpia\\\\Data_tinh\\\\labels'  # thay bằng đường dẫn thật\n",
    "\n",
    "txt_files_1 = [f for f in os.listdir(folder_path_1) if f.endswith('.txt')]\n",
    "print(f\"Tổng số tệp .txt: {len(txt_files_1)}\")"
   ]
  },
  {
   "cell_type": "code",
   "execution_count": 5,
   "id": "7cc2c830",
   "metadata": {},
   "outputs": [
    {
     "name": "stdout",
     "output_type": "stream",
     "text": [
      "Độ chính xác: 92.11%\n"
     ]
    }
   ],
   "source": [
    "accuracy = len(txt_files_1) / len(txt_files) * 100 if txt_files_1 else 0\n",
    "print(f\"Độ chính xác: {accuracy:.2f}%\")"
   ]
  },
  {
   "cell_type": "code",
   "execution_count": null,
   "id": "b7ba15a6",
   "metadata": {},
   "outputs": [],
   "source": []
  },
  {
   "cell_type": "code",
   "execution_count": null,
   "id": "0e22d4c9",
   "metadata": {},
   "outputs": [],
   "source": []
  }
 ],
 "metadata": {
  "kernelspec": {
   "display_name": "env_dl3.12",
   "language": "python",
   "name": "python3"
  },
  "language_info": {
   "codemirror_mode": {
    "name": "ipython",
    "version": 3
   },
   "file_extension": ".py",
   "mimetype": "text/x-python",
   "name": "python",
   "nbconvert_exporter": "python",
   "pygments_lexer": "ipython3",
   "version": "3.12.7"
  }
 },
 "nbformat": 4,
 "nbformat_minor": 5
}

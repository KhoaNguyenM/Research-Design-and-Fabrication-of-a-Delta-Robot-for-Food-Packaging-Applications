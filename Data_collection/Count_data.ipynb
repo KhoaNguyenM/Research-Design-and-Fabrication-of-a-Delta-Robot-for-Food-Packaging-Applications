{
 "cells": [
  {
   "cell_type": "code",
   "execution_count": 3,
   "id": "ba155d67",
   "metadata": {},
   "outputs": [],
   "source": [
    "import os\n",
    "\n",
    "def count_label_files(label_folder):\n",
    "    if not os.path.exists(label_folder):\n",
    "        print(\"Thư mục không tồn tại.\")\n",
    "        return 0\n",
    "\n",
    "    txt_files = [f for f in os.listdir(label_folder) if f.endswith(\".txt\") and os.path.isfile(os.path.join(label_folder, f))]\n",
    "    print(f\"Số lượng tệp .txt trong thư mục '{label_folder}': {len(txt_files)}\")\n",
    "    return len(txt_files)"
   ]
  },
  {
   "cell_type": "code",
   "execution_count": 6,
   "id": "efe5999b",
   "metadata": {},
   "outputs": [
    {
     "name": "stdout",
     "output_type": "stream",
     "text": [
      "Số lượng tệp .txt trong thư mục 'Data_ver2_Banhpia\\All_Data\\test\\labels': 155\n",
      "Số lượng tệp .txt trong thư mục 'Data_ver2_Banhpia\\All_Data\\train\\labels': 757\n",
      "Số lượng tệp .txt trong thư mục 'Data_ver2_Banhpia\\All_Data\\valid\\labels': 303\n"
     ]
    },
    {
     "data": {
      "text/plain": [
       "303"
      ]
     },
     "execution_count": 6,
     "metadata": {},
     "output_type": "execute_result"
    }
   ],
   "source": [
    "\n",
    "# Ví dụ sử dụng\n",
    "label_folder_path_test = \"Data_ver2_Banhpia\\\\All_Data\\\\test\\\\labels\"\n",
    "lanbel_folder_path_train = \"Data_ver2_Banhpia\\\\All_Data\\\\train\\\\labels\"\n",
    "label_folder_path_val = \"Data_ver2_Banhpia\\\\All_Data\\\\valid\\\\labels\"\n",
    "\n",
    "count_label_files(label_folder_path_test)\n",
    "count_label_files(lanbel_folder_path_train)\n",
    "count_label_files(label_folder_path_val)"
   ]
  },
  {
   "cell_type": "code",
   "execution_count": null,
   "id": "fac860b4",
   "metadata": {},
   "outputs": [],
   "source": []
  },
  {
   "cell_type": "code",
   "execution_count": null,
   "id": "b06ae35c",
   "metadata": {},
   "outputs": [],
   "source": []
  },
  {
   "cell_type": "code",
   "execution_count": null,
   "id": "60f25909",
   "metadata": {},
   "outputs": [],
   "source": []
  },
  {
   "cell_type": "code",
   "execution_count": null,
   "id": "7acf95fd",
   "metadata": {},
   "outputs": [],
   "source": []
  },
  {
   "cell_type": "code",
   "execution_count": null,
   "id": "5533a851",
   "metadata": {},
   "outputs": [],
   "source": []
  },
  {
   "cell_type": "code",
   "execution_count": null,
   "id": "e9d21de0",
   "metadata": {},
   "outputs": [],
   "source": []
  }
 ],
 "metadata": {
  "kernelspec": {
   "display_name": "env_dl3.12",
   "language": "python",
   "name": "python3"
  },
  "language_info": {
   "codemirror_mode": {
    "name": "ipython",
    "version": 3
   },
   "file_extension": ".py",
   "mimetype": "text/x-python",
   "name": "python",
   "nbconvert_exporter": "python",
   "pygments_lexer": "ipython3",
   "version": "3.12.7"
  }
 },
 "nbformat": 4,
 "nbformat_minor": 5
}
